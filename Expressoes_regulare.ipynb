{
 "cells": [
  {
   "cell_type": "markdown",
   "metadata": {},
   "source": [
    "# Expressões regulares"
   ]
  },
  {
   "cell_type": "markdown",
   "metadata": {},
   "source": [
    "## Função search\n",
    "primeira ocorrência de um texto regular escrito no texto"
   ]
  },
  {
   "cell_type": "code",
   "execution_count": 8,
   "metadata": {},
   "outputs": [],
   "source": [
    "import re"
   ]
  },
  {
   "cell_type": "code",
   "execution_count": 7,
   "metadata": {},
   "outputs": [],
   "source": [
    "frase = 'Olá, meu número de telefone é (42)0000-0000'"
   ]
  },
  {
   "cell_type": "code",
   "execution_count": 15,
   "metadata": {},
   "outputs": [
    {
     "name": "stderr",
     "output_type": "stream",
     "text": [
      "<>:2: SyntaxWarning: invalid escape sequence '\\('\n",
      "<>:2: SyntaxWarning: invalid escape sequence '\\('\n",
      "C:\\Users\\hyago\\AppData\\Local\\Temp\\ipykernel_42136\\2465703140.py:2: SyntaxWarning: invalid escape sequence '\\('\n",
      "  re.search('\\(\\d{2}\\)\\d{4,5}-\\d{4}', frase)\n"
     ]
    },
    {
     "data": {
      "text/plain": [
       "<re.Match object; span=(30, 43), match='(42)0000-0000'>"
      ]
     },
     "execution_count": 15,
     "metadata": {},
     "output_type": "execute_result"
    }
   ],
   "source": [
    "# queremos encontrar números de telefone de um documento\n",
    "re.search('\\(\\d{2}\\)\\d{4,5}-\\d{4}', frase)"
   ]
  },
  {
   "cell_type": "code",
   "execution_count": 19,
   "metadata": {},
   "outputs": [],
   "source": [
    "frase = 'A placa de carro que eu anotei durante o acidente foi FRT-1998'"
   ]
  },
  {
   "cell_type": "code",
   "execution_count": 20,
   "metadata": {},
   "outputs": [
    {
     "name": "stderr",
     "output_type": "stream",
     "text": [
      "<>:1: SyntaxWarning: invalid escape sequence '\\d'\n",
      "<>:1: SyntaxWarning: invalid escape sequence '\\d'\n",
      "C:\\Users\\hyago\\AppData\\Local\\Temp\\ipykernel_42136\\240028833.py:1: SyntaxWarning: invalid escape sequence '\\d'\n",
      "  re.search('[A-Z]{3}-\\d{4}', frase)\n"
     ]
    },
    {
     "data": {
      "text/plain": [
       "<re.Match object; span=(54, 62), match='FRT-1998'>"
      ]
     },
     "execution_count": 20,
     "metadata": {},
     "output_type": "execute_result"
    }
   ],
   "source": [
    "re.search('[A-Z]{3}-\\d{4}', frase)"
   ]
  },
  {
   "cell_type": "code",
   "execution_count": 21,
   "metadata": {},
   "outputs": [],
   "source": [
    "email = 'Entre em contato, meu email é teste@teste.com'"
   ]
  },
  {
   "cell_type": "code",
   "execution_count": 22,
   "metadata": {},
   "outputs": [
    {
     "name": "stderr",
     "output_type": "stream",
     "text": [
      "<>:1: SyntaxWarning: invalid escape sequence '\\w'\n",
      "<>:1: SyntaxWarning: invalid escape sequence '\\w'\n",
      "C:\\Users\\hyago\\AppData\\Local\\Temp\\ipykernel_42136\\3368228713.py:1: SyntaxWarning: invalid escape sequence '\\w'\n",
      "  re.search('\\w+@\\w+\\.com', email)\n"
     ]
    },
    {
     "data": {
      "text/plain": [
       "<re.Match object; span=(30, 45), match='teste@teste.com'>"
      ]
     },
     "execution_count": 22,
     "metadata": {},
     "output_type": "execute_result"
    }
   ],
   "source": [
    "re.search('\\w+@\\w+\\.com', email)"
   ]
  },
  {
   "cell_type": "markdown",
   "metadata": {},
   "source": [
    "## Função match\n",
    "Verifica se uma expressão regular está no início do texto"
   ]
  },
  {
   "cell_type": "code",
   "execution_count": 23,
   "metadata": {},
   "outputs": [],
   "source": [
    "frase = 'A placa de carro que eu anotei durante o acidente foi FRT-1998'"
   ]
  },
  {
   "cell_type": "code",
   "execution_count": 26,
   "metadata": {},
   "outputs": [
    {
     "name": "stdout",
     "output_type": "stream",
     "text": [
      "None\n"
     ]
    },
    {
     "name": "stderr",
     "output_type": "stream",
     "text": [
      "<>:1: SyntaxWarning: invalid escape sequence '\\d'\n",
      "<>:1: SyntaxWarning: invalid escape sequence '\\d'\n",
      "C:\\Users\\hyago\\AppData\\Local\\Temp\\ipykernel_42136\\2321123988.py:1: SyntaxWarning: invalid escape sequence '\\d'\n",
      "  r=re.match('[A-Za-z]{3}-\\d{4}', frase)\n"
     ]
    }
   ],
   "source": [
    "r=re.match('[A-Za-z]{3}-\\d{4}', frase)\n",
    "print(r)"
   ]
  },
  {
   "cell_type": "code",
   "execution_count": 27,
   "metadata": {},
   "outputs": [],
   "source": [
    "frase2 = 'FRT-1998 é a placa do carro'"
   ]
  },
  {
   "cell_type": "code",
   "execution_count": 29,
   "metadata": {},
   "outputs": [
    {
     "name": "stdout",
     "output_type": "stream",
     "text": [
      "<re.Match object; span=(0, 8), match='FRT-1998'>\n"
     ]
    },
    {
     "name": "stderr",
     "output_type": "stream",
     "text": [
      "<>:1: SyntaxWarning: invalid escape sequence '\\d'\n",
      "<>:1: SyntaxWarning: invalid escape sequence '\\d'\n",
      "C:\\Users\\hyago\\AppData\\Local\\Temp\\ipykernel_42136\\2153925087.py:1: SyntaxWarning: invalid escape sequence '\\d'\n",
      "  r=re.match('[A-Za-z]{3}-\\d{4}', frase2)\n"
     ]
    }
   ],
   "source": [
    "r=re.match('[A-Za-z]{3}-\\d{4}', frase2)\n",
    "print(r)"
   ]
  },
  {
   "cell_type": "markdown",
   "metadata": {},
   "source": [
    "## Função findall\n",
    "Encontra todas as ocorrências"
   ]
  },
  {
   "cell_type": "code",
   "execution_count": 32,
   "metadata": {},
   "outputs": [],
   "source": [
    "frase3 = 'Meu número de telefone atual é (42)0000-0000. O número (56)1111-1111 é o antigo'"
   ]
  },
  {
   "cell_type": "code",
   "execution_count": 36,
   "metadata": {},
   "outputs": [
    {
     "name": "stdout",
     "output_type": "stream",
     "text": [
      "['(42)0000-0000', '(56)1111-1111']\n"
     ]
    },
    {
     "name": "stderr",
     "output_type": "stream",
     "text": [
      "<>:1: SyntaxWarning: invalid escape sequence '\\('\n",
      "<>:1: SyntaxWarning: invalid escape sequence '\\('\n",
      "C:\\Users\\hyago\\AppData\\Local\\Temp\\ipykernel_42136\\150363505.py:1: SyntaxWarning: invalid escape sequence '\\('\n",
      "  print(re.findall('\\(\\d{2}\\)\\d{4,5}-\\d{4}', frase3))\n"
     ]
    }
   ],
   "source": [
    "print(re.findall('\\(\\d{2}\\)\\d{4,5}-\\d{4}', frase3))"
   ]
  },
  {
   "cell_type": "code",
   "execution_count": 30,
   "metadata": {},
   "outputs": [],
   "source": [
    "emails = '''Noome: Teste 1\n",
    "email: teste@teste.com\n",
    "Nome: Teste 2\n",
    "email: teste2@teste.com\n",
    "Nome: teste 3\n",
    "email: teste3@teste.com.br\n",
    "'''"
   ]
  },
  {
   "cell_type": "code",
   "execution_count": 37,
   "metadata": {},
   "outputs": [
    {
     "name": "stderr",
     "output_type": "stream",
     "text": [
      "<>:1: SyntaxWarning: invalid escape sequence '\\w'\n",
      "<>:1: SyntaxWarning: invalid escape sequence '\\w'\n",
      "C:\\Users\\hyago\\AppData\\Local\\Temp\\ipykernel_42136\\3833973589.py:1: SyntaxWarning: invalid escape sequence '\\w'\n",
      "  re.findall('\\w+@\\w+\\.com\\w*', emails)\n"
     ]
    },
    {
     "data": {
      "text/plain": [
       "['teste@teste.com', 'teste2@teste.com', 'teste3@teste.com']"
      ]
     },
     "execution_count": 37,
     "metadata": {},
     "output_type": "execute_result"
    }
   ],
   "source": [
    "re.findall('\\w+@\\w+\\.com\\w*', emails)"
   ]
  },
  {
   "cell_type": "markdown",
   "metadata": {},
   "source": [
    "# Exercício:\n",
    "1- Crie expressões regulares para extrair as seguintes informações do texto abaixo (use a função findall):\n",
    "-Números\n",
    "-CEPs\n",
    "-URLs"
   ]
  }
 ],
 "metadata": {
  "kernelspec": {
   "display_name": "Python 3",
   "language": "python",
   "name": "python3"
  },
  "language_info": {
   "codemirror_mode": {
    "name": "ipython",
    "version": 3
   },
   "file_extension": ".py",
   "mimetype": "text/x-python",
   "name": "python",
   "nbconvert_exporter": "python",
   "pygments_lexer": "ipython3",
   "version": "3.12.2"
  }
 },
 "nbformat": 4,
 "nbformat_minor": 2
}
