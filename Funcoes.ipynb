{
 "cells": [
  {
   "cell_type": "markdown",
   "metadata": {},
   "source": [
    "# Funções\n",
    "\n",
    "* Trechos de programa que recebem um determinado nome e podem ser chamados várias vezes durante a execução\n",
    "* Principais vantagens: reutilização de código, modularidade e facilidade de manutenção do sistema"
   ]
  },
  {
   "cell_type": "markdown",
   "metadata": {},
   "source": [
    "## Função sem parâmetro e sem retorno"
   ]
  },
  {
   "cell_type": "code",
   "execution_count": 2,
   "metadata": {},
   "outputs": [],
   "source": [
    "def mensagem():\n",
    "    print('Texto da função')"
   ]
  },
  {
   "cell_type": "code",
   "execution_count": 3,
   "metadata": {},
   "outputs": [
    {
     "name": "stdout",
     "output_type": "stream",
     "text": [
      "Texto da função\n"
     ]
    }
   ],
   "source": [
    "mensagem()"
   ]
  },
  {
   "cell_type": "markdown",
   "metadata": {},
   "source": [
    "## Função com passagem de parâmetro"
   ]
  },
  {
   "cell_type": "code",
   "execution_count": 4,
   "metadata": {},
   "outputs": [],
   "source": [
    "def mensagem1(texto):\n",
    "    print(texto)"
   ]
  },
  {
   "cell_type": "code",
   "execution_count": 5,
   "metadata": {},
   "outputs": [
    {
     "name": "stdout",
     "output_type": "stream",
     "text": [
      "Texto 1\n"
     ]
    }
   ],
   "source": [
    "mensagem1('Texto 1')"
   ]
  },
  {
   "cell_type": "code",
   "execution_count": 6,
   "metadata": {},
   "outputs": [],
   "source": [
    "def soma(a,b):\n",
    "    print(a+b)"
   ]
  },
  {
   "cell_type": "code",
   "execution_count": 7,
   "metadata": {},
   "outputs": [
    {
     "name": "stdout",
     "output_type": "stream",
     "text": [
      "5\n"
     ]
    }
   ],
   "source": [
    "soma(2,3)"
   ]
  },
  {
   "cell_type": "markdown",
   "metadata": {},
   "source": [
    "## Função com passagem de parâmetros e retorno"
   ]
  },
  {
   "cell_type": "code",
   "execution_count": 8,
   "metadata": {},
   "outputs": [],
   "source": [
    "def soma(a,b):\n",
    "    return a+b"
   ]
  },
  {
   "cell_type": "code",
   "execution_count": 9,
   "metadata": {},
   "outputs": [
    {
     "name": "stdout",
     "output_type": "stream",
     "text": [
      "11\n"
     ]
    }
   ],
   "source": [
    "c = soma(3,8)\n",
    "print(c)"
   ]
  },
  {
   "cell_type": "code",
   "execution_count": 14,
   "metadata": {},
   "outputs": [],
   "source": [
    "# Energia potêncial gravitacional\n",
    "def ener_pote_grav(m,h,g=10):\n",
    "    '''\n",
    "    Calcula a energia potencial gravitacional\n",
    "    Argumentos:\n",
    "    m: massa, entrada como uma variável float\n",
    "    h: altura, entrada como uma variável float\n",
    "\n",
    "    Argumento opcional\n",
    "    g: aceleração gravitacional, com valor default de 10\n",
    "    '''\n",
    "    e = g*m*h\n",
    "    return e"
   ]
  },
  {
   "cell_type": "code",
   "execution_count": 13,
   "metadata": {},
   "outputs": [
    {
     "name": "stdout",
     "output_type": "stream",
     "text": [
      "1960.0\n"
     ]
    }
   ],
   "source": [
    "c = ener_pote_grav(10,20,9.8)\n",
    "print(c)"
   ]
  },
  {
   "cell_type": "code",
   "execution_count": 15,
   "metadata": {},
   "outputs": [
    {
     "name": "stdout",
     "output_type": "stream",
     "text": [
      "Help on function ener_pote_grav in module __main__:\n",
      "\n",
      "ener_pote_grav(m, h, g=10)\n",
      "    Calcula a energia potencial gravitacional\n",
      "    Argumentos:\n",
      "    m: massa, entrada como uma variável float\n",
      "    h: altura, entrada como uma variável float\n",
      "\n",
      "    Argumento opcional\n",
      "    g: aceleração gravitacional, com valor default de 10\n",
      "\n"
     ]
    }
   ],
   "source": [
    "help(ener_pote_grav)"
   ]
  }
 ],
 "metadata": {
  "kernelspec": {
   "display_name": "Python 3",
   "language": "python",
   "name": "python3"
  },
  "language_info": {
   "codemirror_mode": {
    "name": "ipython",
    "version": 3
   },
   "file_extension": ".py",
   "mimetype": "text/x-python",
   "name": "python",
   "nbconvert_exporter": "python",
   "pygments_lexer": "ipython3",
   "version": "3.12.2"
  }
 },
 "nbformat": 4,
 "nbformat_minor": 2
}
