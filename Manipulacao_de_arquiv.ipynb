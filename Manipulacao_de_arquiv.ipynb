{
 "cells": [
  {
   "cell_type": "markdown",
   "metadata": {},
   "source": [
    "# Manipulação de arquivos\n",
    "obs: ao copiar um caminho troque as barras '\\' por '/'. Pois irão dar ErrorSyntaxe"
   ]
  },
  {
   "cell_type": "code",
   "execution_count": 4,
   "metadata": {},
   "outputs": [
    {
     "name": "stdout",
     "output_type": "stream",
     "text": [
      "OlÃ¡ \n",
      "\n",
      "Estou aprendendo\n",
      "\n",
      "a linguagem Python \n",
      "\n",
      "E estou gostando muito\n"
     ]
    }
   ],
   "source": [
    "with open('C:/Users/hyago/documentos/Meusprojetos/python/aprendizagem_de_maquina/frase.txt') as text:\n",
    "    for linha in text:\n",
    "        print(linha)"
   ]
  },
  {
   "cell_type": "code",
   "execution_count": 6,
   "metadata": {},
   "outputs": [
    {
     "data": {
      "text/plain": [
       "['OlÃ¡ \\n',\n",
       " 'Estou aprendendo\\n',\n",
       " 'a linguagem Python \\n',\n",
       " 'E estou gostando muito']"
      ]
     },
     "execution_count": 6,
     "metadata": {},
     "output_type": "execute_result"
    }
   ],
   "source": [
    "with open('C:/Users/hyago/documentos/Meusprojetos/python/aprendizagem_de_maquina/frase.txt') as text:\n",
    "    r = text.readlines()\n",
    "r"
   ]
  },
  {
   "cell_type": "code",
   "execution_count": 7,
   "metadata": {},
   "outputs": [],
   "source": [
    "with open('texto2.txt','w') as texto:\n",
    "    texto.write('Olá a todos')"
   ]
  },
  {
   "cell_type": "code",
   "execution_count": 8,
   "metadata": {},
   "outputs": [
    {
     "name": "stdout",
     "output_type": "stream",
     "text": [
      "Olá a todos\n"
     ]
    }
   ],
   "source": [
    "with open('C:/Users/hyago/documentos/Meusprojetos/python/aprendizagem_de_maquina/texto2.txt') as text:\n",
    "    for linha in text:\n",
    "        print(linha)"
   ]
  },
  {
   "cell_type": "markdown",
   "metadata": {},
   "source": [
    "# Exercícios:\n"
   ]
  },
  {
   "cell_type": "markdown",
   "metadata": {},
   "source": [
    "1-Considerando o dicionário com o nome dos alunos e suas repectivas notas abaixo, crie uma estrutura de repetição para percorrer cada elemento do dicionário para gravar cada aluno em um novo arquivo de texto\n",
    "- Cada aluno deve ocupar uma linha do novo arquivo de texto\n",
    "-O formato deve ser: nome,nota(Pedro,8)\n",
    "-Após a criação do arquivo de texto, faça a leitura do arquivo e mostre todos os alunos"
   ]
  },
  {
   "cell_type": "code",
   "execution_count": 10,
   "metadata": {},
   "outputs": [
    {
     "data": {
      "text/plain": [
       "{'Pedro': 8, 'Maria': 10, 'Amilton': 7.5}"
      ]
     },
     "execution_count": 10,
     "metadata": {},
     "output_type": "execute_result"
    }
   ],
   "source": [
    "alunos = {'Pedro': 8, 'Maria': 10, 'Amilton': 7.5}\n",
    "alunos"
   ]
  },
  {
   "cell_type": "code",
   "execution_count": 13,
   "metadata": {},
   "outputs": [],
   "source": [
    "with open('alunos.txt','w') as arquivo:\n",
    "    for aluno, nota in alunos.items():\n",
    "        arquivo.write(f'{aluno},{nota}\\n')"
   ]
  },
  {
   "cell_type": "code",
   "execution_count": 14,
   "metadata": {},
   "outputs": [
    {
     "name": "stdout",
     "output_type": "stream",
     "text": [
      "Pedro,8\n",
      "\n",
      "Maria,10\n",
      "\n",
      "Amilton,7.5\n",
      "\n"
     ]
    }
   ],
   "source": [
    "with open('alunos.txt','r') as arquivo:\n",
    "    for linha in arquivo:\n",
    "        print(linha)"
   ]
  }
 ],
 "metadata": {
  "kernelspec": {
   "display_name": "Python 3",
   "language": "python",
   "name": "python3"
  },
  "language_info": {
   "codemirror_mode": {
    "name": "ipython",
    "version": 3
   },
   "file_extension": ".py",
   "mimetype": "text/x-python",
   "name": "python",
   "nbconvert_exporter": "python",
   "pygments_lexer": "ipython3",
   "version": "3.12.2"
  }
 },
 "nbformat": 4,
 "nbformat_minor": 2
}
