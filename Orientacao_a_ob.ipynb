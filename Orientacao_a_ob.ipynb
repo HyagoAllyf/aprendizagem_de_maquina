{
 "cells": [
  {
   "cell_type": "markdown",
   "metadata": {},
   "source": [
    "# Orientação a Objetos"
   ]
  },
  {
   "cell_type": "code",
   "execution_count": 28,
   "metadata": {},
   "outputs": [],
   "source": [
    "class Triangulo:\n",
    "    def __init__(self, lado1, lado2, lado3, base, altura): # construtor\n",
    "        self.lado1 = lado1\n",
    "        self.lado2 = lado2\n",
    "        self.lado3 = lado3\n",
    "        self.base = base\n",
    "        self.altura = altura\n",
    "    \n",
    "    def area(self):\n",
    "        return (self.base * self.altura) / 2\n",
    "    \n",
    "    def tipo(self):\n",
    "        if self.lado1 > self.lado2 + self.lado3:\n",
    "            return 'não é um triângulo'\n",
    "        if self.lado1 == self.lado2 or self.lado1 == self.lado3 or self.lado2 == self.lado3:\n",
    "            return 'triângulo isósceles'\n",
    "        else:\n",
    "            return 'outro tipo de triângulo'"
   ]
  },
  {
   "cell_type": "code",
   "execution_count": 29,
   "metadata": {},
   "outputs": [],
   "source": [
    "t1 = Triangulo(2,1,3,4,3)"
   ]
  },
  {
   "cell_type": "code",
   "execution_count": 30,
   "metadata": {},
   "outputs": [
    {
     "name": "stdout",
     "output_type": "stream",
     "text": [
      "2 1 3 4 3 6.0\n",
      "outro tipo de triângulo\n"
     ]
    }
   ],
   "source": [
    "print(t1.lado1, t1.lado2, t1.lado3,t1.base, t1.altura, t1.area())\n",
    "print(t1.tipo())"
   ]
  },
  {
   "cell_type": "code",
   "execution_count": 31,
   "metadata": {},
   "outputs": [
    {
     "name": "stdout",
     "output_type": "stream",
     "text": [
      "8 8 8 16 9\n",
      "triângulo isósceles\n"
     ]
    }
   ],
   "source": [
    "t2 = Triangulo(8,8,8,16,9)\n",
    "print(t2.lado1, t2.lado2, t2.lado3, t2.base, t2.altura)\n",
    "print(t2.tipo())"
   ]
  }
 ],
 "metadata": {
  "kernelspec": {
   "display_name": "Python 3",
   "language": "python",
   "name": "python3"
  },
  "language_info": {
   "codemirror_mode": {
    "name": "ipython",
    "version": 3
   },
   "file_extension": ".py",
   "mimetype": "text/x-python",
   "name": "python",
   "nbconvert_exporter": "python",
   "pygments_lexer": "ipython3",
   "version": "3.12.2"
  }
 },
 "nbformat": 4,
 "nbformat_minor": 2
}
