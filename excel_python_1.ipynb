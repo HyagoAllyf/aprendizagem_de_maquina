{
 "cells": [
  {
   "cell_type": "markdown",
   "metadata": {},
   "source": [
    "# Excel em python\n",
    "como automatizar planilhas em Excel com python"
   ]
  },
  {
   "cell_type": "code",
   "execution_count": 1,
   "metadata": {},
   "outputs": [],
   "source": [
    "import openpyxl"
   ]
  },
  {
   "cell_type": "code",
   "execution_count": 8,
   "metadata": {},
   "outputs": [
    {
     "name": "stdout",
     "output_type": "stream",
     "text": [
      "['Sheet']\n"
     ]
    }
   ],
   "source": [
    "# criar uma planilha(book)\n",
    "book = openpyxl.Workbook()\n",
    "\n",
    "# como visualizar páginas existentes\n",
    "print(book.sheetnames)\n",
    "\n",
    "# Como criar uma página\n",
    "book.create_sheet('Frutas')\n",
    "\n",
    "# Como selecionar uma página\n",
    "frutas_page = book['Frutas']\n",
    "frutas_page.append(['Fruta','Quantidade','Preço'])\n",
    "frutas_page.append(['Banana','5','R$3,90'])\n",
    "frutas_page.append(['Fruta 2','2','R$15,90'])\n",
    "frutas_page.append(['Fruta 3','10','R$30,90'])\n",
    "frutas_page.append(['Fruta 4','2','R$50,50'])\n",
    "# Salvar a planilha\n",
    "book.save('Planilha de Compras.xlsx')"
   ]
  }
 ],
 "metadata": {
  "kernelspec": {
   "display_name": "Python 3",
   "language": "python",
   "name": "python3"
  },
  "language_info": {
   "codemirror_mode": {
    "name": "ipython",
    "version": 3
   },
   "file_extension": ".py",
   "mimetype": "text/x-python",
   "name": "python",
   "nbconvert_exporter": "python",
   "pygments_lexer": "ipython3",
   "version": "3.12.2"
  }
 },
 "nbformat": 4,
 "nbformat_minor": 2
}
