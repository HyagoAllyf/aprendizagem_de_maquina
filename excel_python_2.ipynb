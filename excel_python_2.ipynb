{
 "cells": [
  {
   "cell_type": "markdown",
   "metadata": {},
   "source": [
    "# Programa Criado para fazer as leituras de arquivos excels criados"
   ]
  },
  {
   "cell_type": "code",
   "execution_count": 4,
   "metadata": {},
   "outputs": [
    {
     "name": "stdout",
     "output_type": "stream",
     "text": [
      "Banana\n",
      "5\n",
      "R$3,90\n",
      "Fruta 2\n",
      "2\n",
      "R$15,90\n",
      "Fruta 3\n",
      "10\n",
      "R$30,90\n",
      "Fruta 4\n",
      "2\n",
      "R$50,50\n"
     ]
    }
   ],
   "source": [
    "import openpyxl\n",
    "\n",
    "# Carregando arquivo\n",
    "book = openpyxl.load_workbook('Planilha de Compras.xlsx')\n",
    "# Selecionando a página\n",
    "frutas_page = book['Frutas']\n",
    "# Imprimendo os dados de cada linha\n",
    "for rows in frutas_page.iter_rows(min_row = 2, max_row = 5):\n",
    "    for cell in rows:\n",
    "        print(cell.value)\n",
    "\n"
   ]
  }
 ],
 "metadata": {
  "kernelspec": {
   "display_name": "Python 3",
   "language": "python",
   "name": "python3"
  },
  "language_info": {
   "codemirror_mode": {
    "name": "ipython",
    "version": 3
   },
   "file_extension": ".py",
   "mimetype": "text/x-python",
   "name": "python",
   "nbconvert_exporter": "python",
   "pygments_lexer": "ipython3",
   "version": "3.12.2"
  }
 },
 "nbformat": 4,
 "nbformat_minor": 2
}
