{
 "cells": [
  {
   "cell_type": "markdown",
   "metadata": {},
   "source": [
    "# Exercícios \n",
    "Implemente cada exercício utilizando tanto for quaot o while\n",
    "\n",
    "1- Ler 5 notas e informar a média"
   ]
  },
  {
   "cell_type": "code",
   "execution_count": 3,
   "metadata": {},
   "outputs": [
    {
     "name": "stdout",
     "output_type": "stream",
     "text": [
      "A média será 5.0\n"
     ]
    }
   ],
   "source": [
    "# for \n",
    "sum = 0\n",
    "for c in range(1,6):\n",
    "    nota = float(input(f'Digite {c}ª nota'))\n",
    "    sum = sum + nota\n",
    "med = sum / 5\n",
    "print(f'A média será {med}')"
   ]
  },
  {
   "cell_type": "code",
   "execution_count": 8,
   "metadata": {},
   "outputs": [
    {
     "name": "stdout",
     "output_type": "stream",
     "text": [
      "A média será: 7.2\n"
     ]
    }
   ],
   "source": [
    "# while\n",
    "c = 1\n",
    "sum = 0\n",
    "while c < 6: # além de c podemos colocar um _ para não criar memoria\n",
    "    nota = float(input(f'Digite a {c}º nota: '))\n",
    "    sum += nota\n",
    "    c += 1 \n",
    "med = sum / 5\n",
    "print(f'A média será: {med}')"
   ]
  },
  {
   "cell_type": "markdown",
   "metadata": {},
   "source": [
    "2-Imprimeir a tabuada do número 3\n"
   ]
  },
  {
   "cell_type": "code",
   "execution_count": 14,
   "metadata": {},
   "outputs": [
    {
     "name": "stdout",
     "output_type": "stream",
     "text": [
      "Tabuada de 3\n",
      "3x1=3\n",
      "3x2=6\n",
      "3x3=9\n",
      "3x4=12\n",
      "3x5=15\n",
      "3x6=18\n",
      "3x7=21\n",
      "3x8=24\n",
      "3x9=27\n",
      "3x10=30\n"
     ]
    }
   ],
   "source": [
    "# for\n",
    "print('Tabuada de 3')\n",
    "for c in range(1,11):\n",
    "    print(f'3x{c}={3*c}')"
   ]
  },
  {
   "cell_type": "code",
   "execution_count": 13,
   "metadata": {},
   "outputs": [
    {
     "name": "stdout",
     "output_type": "stream",
     "text": [
      "Tabuada de 3\n",
      "3x1=3\n",
      "3x2=6\n",
      "3x3=9\n",
      "3x4=12\n",
      "3x5=15\n",
      "3x6=18\n",
      "3x7=21\n",
      "3x8=24\n",
      "3x9=27\n",
      "3x10=30\n"
     ]
    }
   ],
   "source": [
    "# while\n",
    "print('Tabuada de 3')\n",
    "c = 1\n",
    "while c < 11:\n",
    "    print(f'3x{c}={3*c}')\n",
    "    c += 1"
   ]
  }
 ],
 "metadata": {
  "kernelspec": {
   "display_name": "Python 3",
   "language": "python",
   "name": "python3"
  },
  "language_info": {
   "codemirror_mode": {
    "name": "ipython",
    "version": 3
   },
   "file_extension": ".py",
   "mimetype": "text/x-python",
   "name": "python",
   "nbconvert_exporter": "python",
   "pygments_lexer": "ipython3",
   "version": "3.12.2"
  }
 },
 "nbformat": 4,
 "nbformat_minor": 2
}
