{
 "cells": [
  {
   "cell_type": "markdown",
   "metadata": {},
   "source": [
    "*lista:* Crie uma estrutura de repetição para fazer a leitura de 5 números inteiros e os armazene dentro de uma lista. Após a leitura, crie outra estrutura de repetição para somar todos os valores digitados."
   ]
  },
  {
   "cell_type": "code",
   "execution_count": 7,
   "metadata": {},
   "outputs": [
    {
     "name": "stdout",
     "output_type": "stream",
     "text": [
      "25\n"
     ]
    }
   ],
   "source": [
    "lista = []\n",
    "for _ in range(0,5):\n",
    "    n = int(input('Digite um número'))\n",
    "    lista.append(n)\n",
    "\n",
    "soma = 0\n",
    "for c in range(len(lista)):\n",
    "    soma += lista[c]\n",
    "print(soma)\n"
   ]
  },
  {
   "cell_type": "code",
   "execution_count": 8,
   "metadata": {},
   "outputs": [
    {
     "data": {
      "text/plain": [
       "25"
      ]
     },
     "execution_count": 8,
     "metadata": {},
     "output_type": "execute_result"
    }
   ],
   "source": [
    "# outra maneira\n",
    "import numpy as np\n",
    "np.array(lista).sum()"
   ]
  },
  {
   "cell_type": "markdown",
   "metadata": {},
   "source": [
    "*Dicionário:* Crie um dicionário para armazenar o nome e a nota de 3 alunos, fazendo a leitura dos valores por meio de uma estrutura de repetição. Depois, crie uma nova estrutura de repetição. Depois, crie uma nova estrutura de repetição para somar todas as notas e retornar a média."
   ]
  },
  {
   "cell_type": "code",
   "execution_count": 10,
   "metadata": {},
   "outputs": [],
   "source": [
    "alunos = {} \n",
    "for _ in range(1,4):\n",
    "    nome = input('Digite o nome do aluno: ')\n",
    "    nota = float(input('Digite a nota: '))\n",
    "    alunos[nome] = nota"
   ]
  },
  {
   "cell_type": "code",
   "execution_count": 14,
   "metadata": {},
   "outputs": [
    {
     "data": {
      "text/plain": [
       "{'joão': 5.0, 'Maria': 8.0, 'pedro': 8.0}"
      ]
     },
     "execution_count": 14,
     "metadata": {},
     "output_type": "execute_result"
    }
   ],
   "source": [
    "alunos"
   ]
  },
  {
   "cell_type": "code",
   "execution_count": 12,
   "metadata": {},
   "outputs": [
    {
     "data": {
      "text/plain": [
       "3"
      ]
     },
     "execution_count": 12,
     "metadata": {},
     "output_type": "execute_result"
    }
   ],
   "source": [
    "len(alunos)"
   ]
  },
  {
   "cell_type": "code",
   "execution_count": 13,
   "metadata": {},
   "outputs": [
    {
     "name": "stdout",
     "output_type": "stream",
     "text": [
      "A média das notas dos alunos é: 7.0\n"
     ]
    }
   ],
   "source": [
    "sum = 0\n",
    "for nota in alunos.values():\n",
    "    sum += nota\n",
    "med = sum / len(alunos)\n",
    "print(f'A média das notas dos alunos é: {med}')"
   ]
  },
  {
   "cell_type": "markdown",
   "metadata": {},
   "source": [
    "*Matriz:* Dada a matriz abaixo, construa uma estrutura de repetição para percorrer e somar todos os elementos da matriz"
   ]
  },
  {
   "cell_type": "code",
   "execution_count": 5,
   "metadata": {},
   "outputs": [
    {
     "name": "stdout",
     "output_type": "stream",
     "text": [
      "17\n"
     ]
    }
   ],
   "source": [
    "import numpy as np\n",
    "\n",
    "matriz = np.array([[3,4,1],\n",
    "                  [3,1,5]])\n",
    "sum = 0\n",
    "for i in range(matriz.shape[0]):\n",
    "    for j in range(matriz.shape[1]):\n",
    "        sum += matriz[i][j]\n",
    "print(sum)"
   ]
  }
 ],
 "metadata": {
  "kernelspec": {
   "display_name": "Python 3",
   "language": "python",
   "name": "python3"
  },
  "language_info": {
   "codemirror_mode": {
    "name": "ipython",
    "version": 3
   },
   "file_extension": ".py",
   "mimetype": "text/x-python",
   "name": "python",
   "nbconvert_exporter": "python",
   "pygments_lexer": "ipython3",
   "version": "3.12.2"
  }
 },
 "nbformat": 4,
 "nbformat_minor": 2
}
