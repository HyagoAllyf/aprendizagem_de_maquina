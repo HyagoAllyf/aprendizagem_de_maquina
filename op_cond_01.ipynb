{
 "cells": [
  {
   "cell_type": "markdown",
   "metadata": {},
   "source": [
    "# Exercício:\n",
    "1.Leia a idade do usuário e classifique-o em:\n",
    "- Criança-0 a 12 anos\n",
    "- Adolescente - 13 a 17 anos\n",
    "- Adulto - acima de 18 anos\n",
    "- Se o usuário digitar um número negativo, mostrar a mensagem que a idade é inválida."
   ]
  },
  {
   "cell_type": "code",
   "execution_count": 5,
   "metadata": {},
   "outputs": [
    {
     "name": "stdout",
     "output_type": "stream",
     "text": [
      "Adolescente\n"
     ]
    }
   ],
   "source": [
    "idade = int(input('Digite a idade: '))\n",
    "\n",
    "if 0 <= idade <=12:\n",
    "    print('Criança')\n",
    "elif 13 <= idade <= 17:\n",
    "    print('Adolescente')\n",
    "elif idade >= 18:\n",
    "    print('Adulto')\n",
    "else: \n",
    "    print('IDADE INVÁLIDA')"
   ]
  },
  {
   "cell_type": "markdown",
   "metadata": {},
   "source": [
    "2.Calcular a média de um aluno que cursou a disciplina de Programação I, a partir da leitura das notas M1, M2 e M3; passando por um cálculo da média aritmética. Após a média calculada, devemos anunciar se o aluno foi aprovado, reprovado ou pegou exame\n",
    "- Se a média estiver entre 0.0 e 4.0, o aluno está reprovado\n",
    "- Se a média estiver entre 4.1 e 6.0, o aluno pegou exame\n",
    "- Se a média for maior do que 6.0, o aluno está aprovado\n",
    "- Se o aluno pegou exame, deve ser lida a nota do exame. Se a nota do exame for maior do que 6.0, está aprovado, senão; está reprovado"
   ]
  },
  {
   "cell_type": "code",
   "execution_count": 7,
   "metadata": {},
   "outputs": [
    {
     "name": "stdout",
     "output_type": "stream",
     "text": [
      "Aluno pegou exame\n",
      "APROVADO\n"
     ]
    }
   ],
   "source": [
    "n1 = float(input('Digite a primeira nota: '))\n",
    "n2 = float(input('Digite a segunda nota: '))\n",
    "n3 = float(input('Digite a terceira nota: '))\n",
    "\n",
    "med = (n1 + n2 + n3)/3\n",
    "\n",
    "if 0 <= med <= 4:\n",
    "    print('REPROVADO')\n",
    "elif 4.1 <= med <= 6:\n",
    "    print('Aluno pegou exame')\n",
    "    n4 = float(input('Nota do exame: '))\n",
    "    if n4 > 6:\n",
    "        print('APROVADO')\n",
    "    else:\n",
    "        print('REPROVADO')\n",
    "elif med < 6:\n",
    "    print('Aluno aprovado')\n",
    "else: \n",
    "    print('MÉDIA INVÁLIDA')"
   ]
  }
 ],
 "metadata": {
  "kernelspec": {
   "display_name": "Python 3",
   "language": "python",
   "name": "python3"
  },
  "language_info": {
   "codemirror_mode": {
    "name": "ipython",
    "version": 3
   },
   "file_extension": ".py",
   "mimetype": "text/x-python",
   "name": "python",
   "nbconvert_exporter": "python",
   "pygments_lexer": "ipython3",
   "version": "3.12.2"
  }
 },
 "nbformat": 4,
 "nbformat_minor": 2
}
