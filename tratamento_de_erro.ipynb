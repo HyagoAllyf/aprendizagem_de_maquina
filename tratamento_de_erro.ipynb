{
 "cells": [
  {
   "cell_type": "markdown",
   "metadata": {},
   "source": [
    "# Tratamento de erros e exceções\n",
    "* NameError: variável não foi definida\n",
    "* TypeError: tipos de dados incompatíveis\n",
    "* RuntimeError: erro de execução\n",
    "* SyntaxError: sintaxe digitada é inválida e não reconhecida pelo interpretador\n",
    "* ZeroDivisionError: divisão por zero\n",
    "* IndexError: índice está fora da coleção\n",
    "* ValueError: Um valor não compatível com o tipo"
   ]
  },
  {
   "cell_type": "markdown",
   "metadata": {},
   "source": [
    "## Tipos de Erros"
   ]
  },
  {
   "cell_type": "code",
   "execution_count": 1,
   "metadata": {},
   "outputs": [
    {
     "ename": "SyntaxError",
     "evalue": "cannot assign to literal here. Maybe you meant '==' instead of '='? (732916017.py, line 1)",
     "output_type": "error",
     "traceback": [
      "\u001b[1;36m  Cell \u001b[1;32mIn[1], line 1\u001b[1;36m\u001b[0m\n\u001b[1;33m    3 = 4\u001b[0m\n\u001b[1;37m    ^\u001b[0m\n\u001b[1;31mSyntaxError\u001b[0m\u001b[1;31m:\u001b[0m cannot assign to literal here. Maybe you meant '==' instead of '='?\n"
     ]
    }
   ],
   "source": [
    "3 = 4 # erro de sintaxe 3 não pode receber 4"
   ]
  },
  {
   "cell_type": "code",
   "execution_count": 2,
   "metadata": {},
   "outputs": [
    {
     "ename": "NameError",
     "evalue": "name 'nome' is not defined",
     "output_type": "error",
     "traceback": [
      "\u001b[1;31m---------------------------------------------------------------------------\u001b[0m",
      "\u001b[1;31mNameError\u001b[0m                                 Traceback (most recent call last)",
      "Cell \u001b[1;32mIn[2], line 1\u001b[0m\n\u001b[1;32m----> 1\u001b[0m \u001b[38;5;28mprint\u001b[39m(\u001b[38;5;124m'\u001b[39m\u001b[38;5;124mMeu nome\u001b[39m\u001b[38;5;124m'\u001b[39m, \u001b[43mnome\u001b[49m)\n",
      "\u001b[1;31mNameError\u001b[0m: name 'nome' is not defined"
     ]
    }
   ],
   "source": [
    "print('Meu nome', nome) # nome não foi definido"
   ]
  },
  {
   "cell_type": "code",
   "execution_count": 3,
   "metadata": {},
   "outputs": [
    {
     "ename": "ZeroDivisionError",
     "evalue": "division by zero",
     "output_type": "error",
     "traceback": [
      "\u001b[1;31m---------------------------------------------------------------------------\u001b[0m",
      "\u001b[1;31mZeroDivisionError\u001b[0m                         Traceback (most recent call last)",
      "Cell \u001b[1;32mIn[3], line 1\u001b[0m\n\u001b[1;32m----> 1\u001b[0m \u001b[38;5;28mprint\u001b[39m(\u001b[38;5;241;43m3\u001b[39;49m\u001b[38;5;241;43m/\u001b[39;49m\u001b[38;5;241;43m0\u001b[39;49m)\n",
      "\u001b[1;31mZeroDivisionError\u001b[0m: division by zero"
     ]
    }
   ],
   "source": [
    "print(3/0) # não podemos dividir por zero"
   ]
  },
  {
   "cell_type": "code",
   "execution_count": 4,
   "metadata": {},
   "outputs": [
    {
     "ename": "TypeError",
     "evalue": "unsupported operand type(s) for /: 'float' and 'str'",
     "output_type": "error",
     "traceback": [
      "\u001b[1;31m---------------------------------------------------------------------------\u001b[0m",
      "\u001b[1;31mTypeError\u001b[0m                                 Traceback (most recent call last)",
      "Cell \u001b[1;32mIn[4], line 1\u001b[0m\n\u001b[1;32m----> 1\u001b[0m \u001b[38;5;241;43m2.3\u001b[39;49m\u001b[43m \u001b[49m\u001b[38;5;241;43m/\u001b[39;49m\u001b[43m \u001b[49m\u001b[38;5;124;43m'\u001b[39;49m\u001b[38;5;124;43mcachorro\u001b[39;49m\u001b[38;5;124;43m'\u001b[39;49m \u001b[38;5;66;03m# erro de tipo, pois cachorro é uma string\u001b[39;00m\n",
      "\u001b[1;31mTypeError\u001b[0m: unsupported operand type(s) for /: 'float' and 'str'"
     ]
    }
   ],
   "source": [
    "2.3 / 'cachorro' # erro de tipo, pois cachorro é uma string"
   ]
  },
  {
   "cell_type": "code",
   "execution_count": 5,
   "metadata": {},
   "outputs": [
    {
     "data": {
      "text/plain": [
       "[1, 2, 3, 4, 5]"
      ]
     },
     "execution_count": 5,
     "metadata": {},
     "output_type": "execute_result"
    }
   ],
   "source": [
    "c = [1,2,3,4,5]\n",
    "c"
   ]
  },
  {
   "cell_type": "code",
   "execution_count": 6,
   "metadata": {},
   "outputs": [
    {
     "ename": "IndexError",
     "evalue": "list index out of range",
     "output_type": "error",
     "traceback": [
      "\u001b[1;31m---------------------------------------------------------------------------\u001b[0m",
      "\u001b[1;31mIndexError\u001b[0m                                Traceback (most recent call last)",
      "Cell \u001b[1;32mIn[6], line 1\u001b[0m\n\u001b[1;32m----> 1\u001b[0m \u001b[43mc\u001b[49m\u001b[43m[\u001b[49m\u001b[38;5;241;43m6\u001b[39;49m\u001b[43m]\u001b[49m\n",
      "\u001b[1;31mIndexError\u001b[0m: list index out of range"
     ]
    }
   ],
   "source": [
    "c[6] # esse índece está fora da coleção"
   ]
  },
  {
   "cell_type": "markdown",
   "metadata": {},
   "source": [
    "## Tratamento de Erro"
   ]
  },
  {
   "cell_type": "code",
   "execution_count": 10,
   "metadata": {},
   "outputs": [
    {
     "name": "stdout",
     "output_type": "stream",
     "text": [
      "Valor inválido\n"
     ]
    }
   ],
   "source": [
    "try:\n",
    "    n = int(input('Digite um número inteiro: '))\n",
    "except: \n",
    "    print('Valor inválido')\n",
    "else:\n",
    "    print(f'Valor digitada é {n}')"
   ]
  },
  {
   "cell_type": "code",
   "execution_count": 1,
   "metadata": {},
   "outputs": [
    {
     "name": "stdout",
     "output_type": "stream",
     "text": [
      "Valor inválido\n",
      "Valor inválido\n",
      "Valor inválido\n",
      "Valor inválido\n",
      "Valor inválido\n",
      "Valor digitado é 5\n"
     ]
    }
   ],
   "source": [
    "while True:\n",
    "    try: \n",
    "        n = int(input('Digite um número inteiro: '))\n",
    "    except:\n",
    "        print('Valor inválido')\n",
    "    else:\n",
    "        print(f'Valor digitado é {n}')\n",
    "        break"
   ]
  },
  {
   "cell_type": "code",
   "execution_count": 3,
   "metadata": {},
   "outputs": [
    {
     "name": "stdout",
     "output_type": "stream",
     "text": [
      "Valor inválido\n",
      "Valor inválido\n",
      "Valor digitado é 5\n"
     ]
    }
   ],
   "source": [
    "while True:\n",
    "    try:\n",
    "        p = int(input('Digite um número inteiro: '))\n",
    "    except ValueError:\n",
    "        print('Valor inválido')\n",
    "    except KeyboardInterrupt: # foi interropido pelo usuário\n",
    "        print('Usuário interrompeu a execução')\n",
    "        break\n",
    "    else:\n",
    "        print(f'Valor digitado é {p}')\n",
    "        break"
   ]
  },
  {
   "cell_type": "markdown",
   "metadata": {},
   "source": [
    "## Exercício\n",
    "\n",
    "1-Crie uma lista vazia e faça a leitura de dois valores do tipo float, colocando cada um dos valores nas primeiras posições da lista (o valor1 ficará na posição 0 da lista e o valor1 ficará na posição 1 da lista). Faça a divisão dos dois valores e trate as seguintes exceções:\n",
    "- ValueError: se o usuário digitar um carcter\n",
    "- ZeroDivisionError: se o usuário digitar zero e ocorrer erro na divisão\n",
    "- IndexError: caso a divisão seja feita levado em consideração posições que não existem na lista\n",
    "- KeyboardINterrupt: caso o usuário interrompa a execução\n",
    "\n",
    "2-Mostre uma mensagem personalizada na ocorrência de cada um desses erros"
   ]
  },
  {
   "cell_type": "code",
   "execution_count": 5,
   "metadata": {},
   "outputs": [
    {
     "name": "stdout",
     "output_type": "stream",
     "text": [
      "A divisão é inválida. O segundo termo é zero\n",
      "A divisão é 2.5\n"
     ]
    }
   ],
   "source": [
    "while True:\n",
    "    try:\n",
    "        lista = []\n",
    "        for _ in range(0,2):\n",
    "            lista.append(float(input('Digite um número: ')))\n",
    "\n",
    "        div = lista[0] / lista[1]\n",
    "    except ValueError:\n",
    "        print('Valor inválido')\n",
    "    except ZeroDivisionError:\n",
    "        print('A divisão é inválida. O segundo termo é zero')\n",
    "    except KeyboardInterrupt:\n",
    "        print('Usuário interrompeu a execução')\n",
    "        break\n",
    "    else:\n",
    "        print(f'A divisão é {div}')\n",
    "        break\n",
    "\n"
   ]
  }
 ],
 "metadata": {
  "kernelspec": {
   "display_name": "Python 3",
   "language": "python",
   "name": "python3"
  },
  "language_info": {
   "codemirror_mode": {
    "name": "ipython",
    "version": 3
   },
   "file_extension": ".py",
   "mimetype": "text/x-python",
   "name": "python",
   "nbconvert_exporter": "python",
   "pygments_lexer": "ipython3",
   "version": "3.12.2"
  }
 },
 "nbformat": 4,
 "nbformat_minor": 2
}
